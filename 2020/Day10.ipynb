{
 "metadata": {
  "language_info": {
   "codemirror_mode": {
    "name": "ipython",
    "version": 3
   },
   "file_extension": ".py",
   "mimetype": "text/x-python",
   "name": "python",
   "nbconvert_exporter": "python",
   "pygments_lexer": "ipython3",
   "version": "3.8.3-final"
  },
  "orig_nbformat": 2,
  "kernelspec": {
   "name": "python3",
   "display_name": "Python 3"
  }
 },
 "nbformat": 4,
 "nbformat_minor": 2,
 "cells": [
  {
   "cell_type": "code",
   "execution_count": 138,
   "metadata": {},
   "outputs": [],
   "source": [
    "import utils\n",
    "input = utils.GetInput(10)"
   ]
  },
  {
   "cell_type": "code",
   "execution_count": 139,
   "metadata": {},
   "outputs": [],
   "source": [
    "test_input = \"\"\"28\n",
    "33\n",
    "18\n",
    "42\n",
    "31\n",
    "14\n",
    "46\n",
    "20\n",
    "48\n",
    "47\n",
    "24\n",
    "23\n",
    "49\n",
    "45\n",
    "19\n",
    "38\n",
    "39\n",
    "11\n",
    "1\n",
    "32\n",
    "25\n",
    "35\n",
    "8\n",
    "17\n",
    "7\n",
    "9\n",
    "4\n",
    "2\n",
    "34\n",
    "10\n",
    "3\"\"\""
   ]
  },
  {
   "cell_type": "code",
   "execution_count": 140,
   "metadata": {},
   "outputs": [],
   "source": [
    "import numpy as np\n",
    "test_data = [int(l) for l in test_input.splitlines()]\n",
    "test_data.append(0)\n",
    "test_data.append(max(test_data) + 3)\n",
    "test_data.sort()\n",
    "\n",
    "\n",
    "data = [int(l) for l in input.splitlines()]\n",
    "data.append(0)\n",
    "data.append(max(data) + 3)\n",
    "data.sort()"
   ]
  },
  {
   "cell_type": "code",
   "execution_count": 141,
   "metadata": {},
   "outputs": [
    {
     "output_type": "execute_result",
     "data": {
      "text/plain": [
       "[0, 1, 2, 3, 6, 9, 10, 11, 12, 13, 16, 19, 20, 21, 22, 23, 26, 29, 30, 31]"
      ]
     },
     "metadata": {},
     "execution_count": 141
    }
   ],
   "source": [
    "data[0:20]"
   ]
  },
  {
   "cell_type": "code",
   "execution_count": 142,
   "metadata": {},
   "outputs": [
    {
     "output_type": "stream",
     "name": "stdout",
     "text": [
      "22 0 10\n"
     ]
    }
   ],
   "source": [
    "d = list(zip(test_data[:-1], test_data[1:]))\n",
    "\n",
    "diffs = [b - a for a,b in d]\n",
    "print(diffs.count(1), diffs.count(2), diffs.count(3))"
   ]
  },
  {
   "cell_type": "code",
   "execution_count": 159,
   "metadata": {},
   "outputs": [
    {
     "output_type": "stream",
     "name": "stdout",
     "text": [
      "3034\n"
     ]
    }
   ],
   "source": [
    "# Part 1\n",
    "d = list(zip(data[:-1], data[1:]))\n",
    "\n",
    "diffs = [b - a for a,b in d]\n",
    "print(diffs.count(1) * diffs.count(3))"
   ]
  },
  {
   "cell_type": "code",
   "execution_count": 160,
   "metadata": {},
   "outputs": [
    {
     "output_type": "stream",
     "name": "stdout",
     "text": [
      "[1, 1, 1, 3, 3, 1, 1, 1, 1, 3, 3, 1, 1, 1, 1, 3, 3, 1, 1, 1]\n[0, 1, 2, 3, 6, 9, 10, 11, 12, 13, 16, 19, 20, 21, 22, 23, 26, 29, 30, 31]\n"
     ]
    }
   ],
   "source": [
    "print(diffs[0:20])\n",
    "print(data[0:20])"
   ]
  },
  {
   "cell_type": "code",
   "execution_count": 161,
   "metadata": {},
   "outputs": [
    {
     "output_type": "stream",
     "name": "stdout",
     "text": [
      "153\n"
     ]
    }
   ],
   "source": [
    "count = 0\n",
    "for i,a in enumerate(diffs):\n",
    "    if(a == 3): continue\n",
    "    for jump in range(1,4):\n",
    "        count = count + 1\n",
    "        if(diffs[i + jump] == 3): break\n",
    "print(count)"
   ]
  },
  {
   "cell_type": "code",
   "execution_count": 185,
   "metadata": {},
   "outputs": [
    {
     "output_type": "stream",
     "name": "stdout",
     "text": [
      "1113311113311113311113111133111133311113111311331113311133311133113133131311113111131111311133111133113311113331113\n"
     ]
    },
    {
     "output_type": "execute_result",
     "data": {
      "text/plain": [
       "259172170858496"
      ]
     },
     "metadata": {},
     "execution_count": 185
    }
   ],
   "source": [
    "# part 2\n",
    "import re\n",
    "import math\n",
    "string = \"\".join([str(x) for x in diffs])\n",
    "print(string)\n",
    "\n",
    "possibilities = list()\n",
    "for match in re.findall(r\"(1+)3+\", string):#\"11113111133111311331111313311113\"):\n",
    "    count = match.count(\"1\")\n",
    "    possibilities.append(count)\n",
    "\n",
    "switcher = {\n",
    "    # Tribonacci numbers\n",
    "    1:1, 2:2, 3:4, 4:7, 5:13, 6: 24, 7: 44\n",
    "}\n",
    "\n",
    "binomial = list(map(lambda x: switcher.get(x), possibilities))\n",
    "math.prod(binomial)"
   ]
  }
 ]
}