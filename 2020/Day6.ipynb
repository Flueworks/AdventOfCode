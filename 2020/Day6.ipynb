{
 "metadata": {
  "language_info": {
   "codemirror_mode": {
    "name": "ipython",
    "version": 3
   },
   "file_extension": ".py",
   "mimetype": "text/x-python",
   "name": "python",
   "nbconvert_exporter": "python",
   "pygments_lexer": "ipython3",
   "version": "3.8.5-final"
  },
  "orig_nbformat": 2,
  "kernelspec": {
   "name": "python3",
   "display_name": "Python 3"
  }
 },
 "nbformat": 4,
 "nbformat_minor": 2,
 "cells": [
  {
   "cell_type": "code",
   "execution_count": 191,
   "metadata": {},
   "outputs": [],
   "source": [
    "import utils\n",
    "input = utils.GetInput(6)"
   ]
  },
  {
   "cell_type": "code",
   "execution_count": 192,
   "metadata": {},
   "outputs": [],
   "source": [
    "# input = \"\"\"abc\n",
    "\n",
    "# a\n",
    "# b\n",
    "# c\n",
    "\n",
    "# ab\n",
    "# ac\n",
    "\n",
    "# a\n",
    "# a\n",
    "# a\n",
    "# a\n",
    "\n",
    "# b\"\"\""
   ]
  },
  {
   "cell_type": "code",
   "execution_count": 193,
   "metadata": {},
   "outputs": [
    {
     "output_type": "execute_result",
     "data": {
      "text/plain": [
       "[['b', 'b', 'b', 'b'],\n",
       " ['x', 'xfkj', 'xb'],\n",
       " ['ovuxdgiheszjbaltw', 'oxwjiubhfylzavst'],\n",
       " ['se', 'u', 'j', 'se'],\n",
       " ['eaxzstqkujdlhi', 'dsinkoqhjxz'],\n",
       " ['ekgoxuhrlqanziwc', 'iakunrgqhzcol', 'zohklgcuriqan'],\n",
       " ['dhyesmq', 'pjcvihxwyz'],\n",
       " ['oqvxlyrtbmshfdneug', 'vekdxczyhwtoigpsa', 'gjvpothdyesx', 'vethogdxkys']]"
      ]
     },
     "metadata": {},
     "execution_count": 193
    }
   ],
   "source": [
    "group_lines = input.rstrip().split('\\n\\n')\n",
    "groups = [line.splitlines() for line in group_lines]\n",
    "groups[0:8]"
   ]
  },
  {
   "cell_type": "code",
   "execution_count": 194,
   "metadata": {},
   "outputs": [
    {
     "output_type": "execute_result",
     "data": {
      "text/plain": [
       "[['b', 'b', 'b', 'b'],\n",
       " ['x', 'x', 'f', 'k', 'j', 'x', 'b'],\n",
       " ['o',\n",
       "  'v',\n",
       "  'u',\n",
       "  'x',\n",
       "  'd',\n",
       "  'g',\n",
       "  'i',\n",
       "  'h',\n",
       "  'e',\n",
       "  's',\n",
       "  'z',\n",
       "  'j',\n",
       "  'b',\n",
       "  'a',\n",
       "  'l',\n",
       "  't',\n",
       "  'w',\n",
       "  'o',\n",
       "  'x',\n",
       "  'w',\n",
       "  'j',\n",
       "  'i',\n",
       "  'u',\n",
       "  'b',\n",
       "  'h',\n",
       "  'f',\n",
       "  'y',\n",
       "  'l',\n",
       "  'z',\n",
       "  'a',\n",
       "  'v',\n",
       "  's',\n",
       "  't'],\n",
       " ['s', 'e', 'u', 'j', 's', 'e'],\n",
       " ['e',\n",
       "  'a',\n",
       "  'x',\n",
       "  'z',\n",
       "  's',\n",
       "  't',\n",
       "  'q',\n",
       "  'k',\n",
       "  'u',\n",
       "  'j',\n",
       "  'd',\n",
       "  'l',\n",
       "  'h',\n",
       "  'i',\n",
       "  'd',\n",
       "  's',\n",
       "  'i',\n",
       "  'n',\n",
       "  'k',\n",
       "  'o',\n",
       "  'q',\n",
       "  'h',\n",
       "  'j',\n",
       "  'x',\n",
       "  'z']]"
      ]
     },
     "metadata": {},
     "execution_count": 194
    }
   ],
   "source": [
    "group_answers = [[c for answer in group for c in answer] for group in groups]\n",
    "group_answers[0:5]"
   ]
  },
  {
   "cell_type": "code",
   "execution_count": 195,
   "metadata": {},
   "outputs": [
    {
     "output_type": "execute_result",
     "data": {
      "text/plain": [
       "6534"
      ]
     },
     "metadata": {},
     "execution_count": 195
    }
   ],
   "source": [
    "# Part 1\n",
    "sum([len(set(group)) for group in group_answers])"
   ]
  },
  {
   "cell_type": "code",
   "execution_count": 196,
   "metadata": {},
   "outputs": [
    {
     "output_type": "execute_result",
     "data": {
      "text/plain": [
       "3402"
      ]
     },
     "metadata": {},
     "execution_count": 196
    }
   ],
   "source": [
    "# Part 2\n",
    "# TODO: Learn how set functions and list comprehensions works\n",
    "sum([len(set.intersection(*[set(p) for p in group])) for group in groups])"
   ]
  }
 ]
}