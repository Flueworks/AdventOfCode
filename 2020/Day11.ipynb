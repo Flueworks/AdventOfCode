{
 "metadata": {
  "language_info": {
   "codemirror_mode": {
    "name": "ipython",
    "version": 3
   },
   "file_extension": ".py",
   "mimetype": "text/x-python",
   "name": "python",
   "nbconvert_exporter": "python",
   "pygments_lexer": "ipython3",
   "version": "3.8.3-final"
  },
  "orig_nbformat": 2,
  "kernelspec": {
   "name": "python3",
   "display_name": "Python 3"
  }
 },
 "nbformat": 4,
 "nbformat_minor": 2,
 "cells": [
  {
   "cell_type": "code",
   "execution_count": 291,
   "metadata": {},
   "outputs": [],
   "source": [
    "import utils\n",
    "input = utils.GetInput(11)"
   ]
  },
  {
   "cell_type": "code",
   "execution_count": 292,
   "metadata": {},
   "outputs": [],
   "source": [
    "test_input = \"\"\"L.LL.LL.LL.\n",
    "LLLLLLL.LL.\n",
    "L.L.L..L...\n",
    "LLLL.LL.LL.\n",
    "L.LL.LL.LL.\n",
    "L.LLLLL.LL.\n",
    "..L.L......\n",
    "LLLLLLLLLL.\n",
    "L.LLLLLL.L.\n",
    "L.LLLLL.LL.\"\"\""
   ]
  },
  {
   "cell_type": "code",
   "execution_count": 299,
   "metadata": {},
   "outputs": [
    {
     "output_type": "execute_result",
     "data": {
      "text/plain": [
       "array([[1, 1, 1, ..., 1, 1, 1],\n",
       "       [1, 1, 1, ..., 1, 1, 1],\n",
       "       [1, 1, 0, ..., 1, 1, 1],\n",
       "       ...,\n",
       "       [1, 1, 1, ..., 1, 1, 0],\n",
       "       [1, 1, 1, ..., 1, 1, 1],\n",
       "       [1, 1, 1, ..., 1, 1, 1]])"
      ]
     },
     "metadata": {},
     "execution_count": 299
    }
   ],
   "source": [
    "import numpy as np\n",
    "test_mask = np.array([[1 if c == \"L\" else 0 for c in l] for l in test_input.splitlines()])\n",
    "test_mask\n",
    "\n",
    "mask = np.array([[1 if c == \"L\" else 0 for c in l] for l in input.splitlines()])\n",
    "mask\n"
   ]
  },
  {
   "cell_type": "code",
   "execution_count": 294,
   "metadata": {},
   "outputs": [
    {
     "output_type": "stream",
     "name": "stdout",
     "text": [
      "(93, 94)\n"
     ]
    }
   ],
   "source": [
    "print(mask.shape)"
   ]
  },
  {
   "cell_type": "code",
   "execution_count": 295,
   "metadata": {},
   "outputs": [
    {
     "output_type": "execute_result",
     "data": {
      "text/plain": [
       "array([[1, 1, 1],\n",
       "       [1, 1, 1],\n",
       "       [1, 1, 0]])"
      ]
     },
     "metadata": {},
     "execution_count": 295
    }
   ],
   "source": [
    "def get_neighbors(grid, row, col):\n",
    "    row_min = max(row-1, 0)\n",
    "    row_max = min(row+2, grid.shape[1]+1)\n",
    "    col_min = max(col-1, 0)\n",
    "    col_max = min(col+2, grid.shape[0]+1)\n",
    "    return grid[row_min:row_max, col_min:col_max]\n",
    "\n",
    "get_neighbors(mask, 1,1)"
   ]
  },
  {
   "cell_type": "code",
   "execution_count": 298,
   "metadata": {},
   "outputs": [
    {
     "output_type": "execute_result",
     "data": {
      "text/plain": [
       "2251.0"
      ]
     },
     "metadata": {},
     "execution_count": 298
    }
   ],
   "source": [
    "def get_state(grid, row, col):\n",
    "    neighbours = np.sum(get_neighbors(grid, row, col)) - grid[row, col]\n",
    "\n",
    "    if(grid[row, col] == 0 and neighbours == 0):\n",
    "            return 1\n",
    "    elif (neighbours >= 4):\n",
    "            return 0\n",
    "    return grid[row, col]\n",
    "\n",
    "def run(grid, mask):\n",
    "    new_grid = np.copy(grid)\n",
    "    for row in range(grid.shape[0]):\n",
    "        for col in range(grid.shape[1]):\n",
    "            if(mask[row, col] == 0): continue\n",
    "            new_grid[row, col] = get_state(grid, row, col)\n",
    "    return new_grid\n",
    "\n",
    "def output(grid, mask):\n",
    "    for row in range(0, grid.shape[0]):\n",
    "        for col in range(0, grid.shape[1]):\n",
    "            if(mask[row, col] == 0): print(\".\", end = '')\n",
    "            else: print(\"L\" if grid[row, col] == 0 else \"#\", end = '')\n",
    "        print()\n",
    "    print()\n",
    "\n",
    "def find_stable_configuration(mask):\n",
    "    grid = np.zeros(mask.shape)\n",
    "    for i in range(0,1000):\n",
    "        new_grid = run(grid, mask)\n",
    "        #output(new_grid, mask)\n",
    "        \n",
    "        stale = new_grid == grid\n",
    "        #print(stale)\n",
    "        if(stale.all()):\n",
    "            return grid\n",
    "        grid = new_grid\n",
    "\n",
    "\n",
    "stable_grid = find_stable_configuration(mask)\n",
    "stable_grid.sum()"
   ]
  },
  {
   "cell_type": "code",
   "execution_count": null,
   "metadata": {},
   "outputs": [],
   "source": []
  }
 ]
}