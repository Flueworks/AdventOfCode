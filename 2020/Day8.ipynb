{
 "metadata": {
  "language_info": {
   "codemirror_mode": {
    "name": "ipython",
    "version": 3
   },
   "file_extension": ".py",
   "mimetype": "text/x-python",
   "name": "python",
   "nbconvert_exporter": "python",
   "pygments_lexer": "ipython3",
   "version": "3.8.3-final"
  },
  "orig_nbformat": 2,
  "kernelspec": {
   "name": "python3",
   "display_name": "Python 3"
  }
 },
 "nbformat": 4,
 "nbformat_minor": 2,
 "cells": [
  {
   "cell_type": "code",
   "execution_count": 232,
   "metadata": {},
   "outputs": [],
   "source": [
    "import utils\n",
    "input = utils.GetInput(8)"
   ]
  },
  {
   "cell_type": "code",
   "execution_count": 233,
   "metadata": {},
   "outputs": [],
   "source": [
    "test_input = \"\"\"nop +0\n",
    "acc +1\n",
    "jmp +4\n",
    "acc +3\n",
    "jmp -3\n",
    "acc -99\n",
    "acc +1\n",
    "jmp -4\n",
    "acc +6\"\"\""
   ]
  },
  {
   "cell_type": "code",
   "execution_count": 234,
   "metadata": {},
   "outputs": [
    {
     "output_type": "execute_result",
     "data": {
      "text/plain": [
       "[('acc', 22),\n",
       " ('acc', 34),\n",
       " ('jmp', 167),\n",
       " ('acc', 46),\n",
       " ('acc', 25),\n",
       " ('acc', -10),\n",
       " ('acc', 11),\n",
       " ('jmp', 540),\n",
       " ('acc', 0),\n",
       " ('jmp', 242)]"
      ]
     },
     "metadata": {},
     "execution_count": 234
    }
   ],
   "source": [
    "import re\n",
    "\n",
    "instructions     = [(x[0], int(x[1])) for x in [re.match(r\"([\\w]{3}) ([+-]\\d+)\", line).group(1,2) for line in input.splitlines()]]\n",
    "test_instructions = [(x[0], int(x[1])) for x in [re.match(r\"([\\w]{3}) ([+-]\\d+)\", line).group(1,2) for line in test_input.splitlines()]]\n",
    "instructions[0:10]"
   ]
  },
  {
   "cell_type": "code",
   "execution_count": 235,
   "metadata": {},
   "outputs": [],
   "source": [
    "from collections import namedtuple\n",
    "State = namedtuple(\"State\", \"acc pc\")\n",
    "\n",
    "def acc(state, val):\n",
    "    return State(state.acc + val, state.pc + 1)\n",
    "\n",
    "def jmp(state, val):\n",
    "    return State(state.acc, state.pc + val)\n",
    "\n",
    "def nop(state, val):\n",
    "    return State(state.acc, state.pc + 1)\n",
    "\n",
    "switcher = {\n",
    "    \"acc\": acc,\n",
    "    \"jmp\": jmp,\n",
    "    \"nop\": nop,\n",
    "}"
   ]
  },
  {
   "cell_type": "code",
   "execution_count": 236,
   "metadata": {
    "tags": []
   },
   "outputs": [
    {
     "output_type": "execute_result",
     "data": {
      "text/plain": [
       "State(acc=5, pc=1)"
      ]
     },
     "metadata": {},
     "execution_count": 236
    }
   ],
   "source": [
    "# Part 1\n",
    "def run_instructions(instructions):\n",
    "    state = State(0,0)\n",
    "    visitedInstructions = set()\n",
    "\n",
    "    while (True):\n",
    "        visitedInstructions.add(state.pc)\n",
    "        instruction = instructions[state.pc]\n",
    "        op = switcher.get(instruction[0])\n",
    "        state = op(state, instruction[1])\n",
    "        if (state.pc in visitedInstructions):\n",
    "            break\n",
    "        if(state.pc == len(instructions)):\n",
    "            break\n",
    "\n",
    "    return state\n",
    "\n",
    "run_instructions(testInstructions)"
   ]
  },
  {
   "cell_type": "code",
   "execution_count": 237,
   "metadata": {},
   "outputs": [
    {
     "output_type": "execute_result",
     "data": {
      "text/plain": [
       "State(acc=1384, pc=593)"
      ]
     },
     "metadata": {},
     "execution_count": 237
    }
   ],
   "source": [
    "run_instructions(instructions)"
   ]
  },
  {
   "cell_type": "code",
   "execution_count": 238,
   "metadata": {},
   "outputs": [
    {
     "output_type": "execute_result",
     "data": {
      "text/plain": [
       "State(acc=8, pc=9)"
      ]
     },
     "metadata": {},
     "execution_count": 238
    }
   ],
   "source": [
    "# Part 2\n",
    "def decorrupt(instructions):\n",
    "    for index, instruction in enumerate(instructions):\n",
    "        if(instruction[0] == 'acc'):\n",
    "            continue\n",
    "        fixed = list(instructions)\n",
    "        fixed[index] = (\"jmp\" if instruction[0] == \"nop\" else \"nop\", instruction[1])    \n",
    "        result = run_instructions(fixed)\n",
    "        if(result.pc == len(instructions)):\n",
    "            return result\n",
    "\n",
    "decorrupt(testInstructions)"
   ]
  },
  {
   "cell_type": "code",
   "execution_count": 239,
   "metadata": {},
   "outputs": [
    {
     "output_type": "execute_result",
     "data": {
      "text/plain": [
       "State(acc=761, pc=601)"
      ]
     },
     "metadata": {},
     "execution_count": 239
    }
   ],
   "source": [
    "decorrupt(instructions)"
   ]
  }
 ]
}