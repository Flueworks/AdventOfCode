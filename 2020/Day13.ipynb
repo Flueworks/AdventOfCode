{
 "metadata": {
  "language_info": {
   "codemirror_mode": {
    "name": "ipython",
    "version": 3
   },
   "file_extension": ".py",
   "mimetype": "text/x-python",
   "name": "python",
   "nbconvert_exporter": "python",
   "pygments_lexer": "ipython3",
   "version": "3.8.3-final"
  },
  "orig_nbformat": 2,
  "kernelspec": {
   "name": "python3",
   "display_name": "Python 3",
   "language": "python"
  }
 },
 "nbformat": 4,
 "nbformat_minor": 2,
 "cells": [
  {
   "cell_type": "code",
   "execution_count": 73,
   "metadata": {},
   "outputs": [
    {
     "output_type": "execute_result",
     "data": {
      "text/plain": [
       "'1001612\\n19,x,x,x,x,x,x,x,x,41,x,x,x,37,x,x,x,x,x,821,x,x,x,x,x,x,x,x,x,x,x,x,13,x,x,x,17,x,x,x,x,x,x,x,x,x,x,x,29,x,463,x,x,x,x,x,x,x,x,x,x,x,x,x,x,x,x,x,x,x,x,x,x,23\\n'"
      ]
     },
     "metadata": {},
     "execution_count": 73
    }
   ],
   "source": [
    "import utils\n",
    "input = utils.GetInput(13)\n",
    "input"
   ]
  },
  {
   "cell_type": "code",
   "execution_count": 74,
   "metadata": {},
   "outputs": [],
   "source": [
    "#testdata\n",
    "# input = \"939\\n7,13,x,x,59,x,31,19\""
   ]
  },
  {
   "cell_type": "code",
   "execution_count": 75,
   "metadata": {},
   "outputs": [
    {
     "output_type": "execute_result",
     "data": {
      "text/plain": [
       "['19', 'x', 'x', 'x', 'x', 'x', 'x', 'x', 'x', '41', 'x', 'x', 'x', '37', 'x']"
      ]
     },
     "metadata": {},
     "execution_count": 75
    }
   ],
   "source": [
    "lines = input.splitlines()\n",
    "timestamp = int(lines[0])\n",
    "bus_ids = lines[1].split(',')\n",
    "bus_ids[0:15]"
   ]
  },
  {
   "cell_type": "code",
   "execution_count": 76,
   "metadata": {},
   "outputs": [
    {
     "output_type": "stream",
     "name": "stdout",
     "text": [
      "19 8\n41 23\n37 22\n821 813\n13 1\n17 6\n29 10\n463 143\n23 8\n"
     ]
    }
   ],
   "source": [
    "for bus in bus_ids:\n",
    "    if(bus == \"x\"): continue\n",
    "    busid = int(bus)\n",
    "    print(busid,timestamp % busid)"
   ]
  },
  {
   "cell_type": "code",
   "execution_count": 77,
   "metadata": {},
   "outputs": [
    {
     "output_type": "execute_result",
     "data": {
      "text/plain": [
       "(813, 6568)"
      ]
     },
     "metadata": {},
     "execution_count": 77
    }
   ],
   "source": [
    "a = [int(x) for x in bus_ids if x != \"x\"]\n",
    "b = [(timestamp%busid, ((int(timestamp/busid)+1)*busid - timestamp) * busid) for busid in a]\n",
    "b.sort()\n",
    "\n",
    "bus = b[-1]\n",
    "bus"
   ]
  },
  {
   "cell_type": "code",
   "execution_count": 78,
   "metadata": {},
   "outputs": [
    {
     "output_type": "execute_result",
     "data": {
      "text/plain": [
       "1001643"
      ]
     },
     "metadata": {},
     "execution_count": 78
    }
   ],
   "source": [
    "a = timestamp / 59\n",
    "b = int(a) + 1\n",
    "b * 59"
   ]
  }
 ]
}