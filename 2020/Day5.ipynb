{
 "metadata": {
  "language_info": {
   "codemirror_mode": {
    "name": "ipython",
    "version": 3
   },
   "file_extension": ".py",
   "mimetype": "text/x-python",
   "name": "python",
   "nbconvert_exporter": "python",
   "pygments_lexer": "ipython3",
   "version": "3.8.3-final"
  },
  "orig_nbformat": 2,
  "kernelspec": {
   "name": "python3",
   "display_name": "Python 3"
  }
 },
 "nbformat": 4,
 "nbformat_minor": 2,
 "cells": [
  {
   "cell_type": "code",
   "execution_count": 71,
   "metadata": {},
   "outputs": [],
   "source": [
    "import utils\n",
    "input = utils.GetInput(5)"
   ]
  },
  {
   "cell_type": "code",
   "execution_count": 72,
   "metadata": {},
   "outputs": [
    {
     "output_type": "execute_result",
     "data": {
      "text/plain": [
       "['FBBFBBBRLR', 'BFFBBFFLLL', 'BFFBBBBRRR', 'BBBFBBFRLL', 'FFBFFFFLRL']"
      ]
     },
     "metadata": {},
     "execution_count": 72
    }
   ],
   "source": [
    "lines = input.splitlines()\n",
    "lines[0:5]"
   ]
  },
  {
   "cell_type": "code",
   "execution_count": 73,
   "metadata": {},
   "outputs": [],
   "source": [
    "def high(low, high):\n",
    "    newLow = int(high - (high-low)/2)\n",
    "    return(newLow, high)\n",
    "\n",
    "def low(low, high):\n",
    "    newHigh = int(high - (high-low)/2)\n",
    "    return(low, newHigh)\n",
    "\n",
    "switcher = {\n",
    "    \"F\": low,\n",
    "    \"B\": high,\n",
    "    \"L\": low,\n",
    "    \"R\": high,\n",
    "}"
   ]
  },
  {
   "cell_type": "code",
   "execution_count": 74,
   "metadata": {},
   "outputs": [
    {
     "output_type": "execute_result",
     "data": {
      "text/plain": [
       "(42, 43)"
      ]
     },
     "metadata": {},
     "execution_count": 74
    }
   ],
   "source": [
    "row = (0, 128)\n",
    "\n",
    "row = low(*row)\n",
    "row = high(*row)\n",
    "row = low(*row)\n",
    "row = high(*row)\n",
    "row = low(*row)\n",
    "row = high(*row)\n",
    "row = low(*row)\n",
    "row"
   ]
  },
  {
   "cell_type": "code",
   "execution_count": 75,
   "metadata": {},
   "outputs": [
    {
     "output_type": "execute_result",
     "data": {
      "text/plain": [
       "(2, 3)"
      ]
     },
     "metadata": {},
     "execution_count": 75
    }
   ],
   "source": [
    "col = (0, 8)\n",
    "\n",
    "col = low(*col)\n",
    "col = high(*col)\n",
    "col = low(*col)\n",
    "col"
   ]
  },
  {
   "cell_type": "code",
   "execution_count": 81,
   "metadata": {},
   "outputs": [],
   "source": [
    "def get_position(line):\n",
    "    row = (0, 128)\n",
    "    col = (0, 8)\n",
    "\n",
    "    for c in line[0:7]:\n",
    "        row = switcher.get(c)(*row)\n",
    "\n",
    "    for c in line[7:10]:\n",
    "        col = switcher.get(c)(*col)\n",
    "\n",
    "    return (row[0], col[0])\n",
    "\n",
    "def parse(line):\n",
    "    position = get_position(line)\n",
    "    return (*position, position[0] * 8 + position[1])"
   ]
  },
  {
   "cell_type": "code",
   "execution_count": 113,
   "metadata": {},
   "outputs": [
    {
     "output_type": "stream",
     "name": "stdout",
     "text": [
      "(70, 7, 567)\n(14, 7, 119)\n(102, 4, 820)\n"
     ]
    }
   ],
   "source": [
    "print(parse(\"BFFFBBFRRR\"))\n",
    "print(parse(\"FFFBBBFRRR\"))\n",
    "print(parse(\"BBFFBBFRLL\"))"
   ]
  },
  {
   "source": [
    "# Part 1"
   ],
   "cell_type": "markdown",
   "metadata": {}
  },
  {
   "cell_type": "code",
   "execution_count": 114,
   "metadata": {},
   "outputs": [
    {
     "output_type": "execute_result",
     "data": {
      "text/plain": [
       "959"
      ]
     },
     "metadata": {},
     "execution_count": 114
    }
   ],
   "source": [
    "max([parse(line)[2] for line in lines])"
   ]
  },
  {
   "source": [
    "# Part 2"
   ],
   "cell_type": "markdown",
   "metadata": {}
  },
  {
   "cell_type": "code",
   "execution_count": 112,
   "metadata": {},
   "outputs": [
    {
     "output_type": "execute_result",
     "data": {
      "text/plain": [
       "527"
      ]
     },
     "metadata": {},
     "execution_count": 112
    }
   ],
   "source": [
    "positions = list([parse(line) for line in lines])\n",
    "\n",
    "positions.sort()\n",
    "\n",
    "id = positions[0][2]\n",
    "for pos in positions:\n",
    "    if (pos[2] != id):\n",
    "        break\n",
    "    id = pos[2]+1\n",
    "id"
   ]
  }
 ]
}