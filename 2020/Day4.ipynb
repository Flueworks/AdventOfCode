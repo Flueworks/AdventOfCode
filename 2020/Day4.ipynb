{
 "metadata": {
  "language_info": {
   "codemirror_mode": {
    "name": "ipython",
    "version": 3
   },
   "file_extension": ".py",
   "mimetype": "text/x-python",
   "name": "python",
   "nbconvert_exporter": "python",
   "pygments_lexer": "ipython3",
   "version": "3.8.5-final"
  },
  "orig_nbformat": 2,
  "kernelspec": {
   "name": "python3",
   "display_name": "Python 3"
  }
 },
 "nbformat": 4,
 "nbformat_minor": 2,
 "cells": [
  {
   "cell_type": "code",
   "execution_count": 2,
   "metadata": {},
   "outputs": [],
   "source": [
    "import utils\n",
    "input = utils.GetInput(4)"
   ]
  },
  {
   "cell_type": "code",
   "execution_count": 100,
   "metadata": {},
   "outputs": [],
   "source": [
    "# input = \"\"\"ecl:gry pid:860033327 eyr:2020 hcl:#fffffd\n",
    "# byr:1937 iyr:2017 cid:147 hgt:183cm\n",
    "\n",
    "# iyr:2013 ecl:amb cid:350 eyr:2023 pid:028048884\n",
    "# hcl:#cfa07d byr:1929\n",
    "\n",
    "# hcl:#ae17e1 iyr:2013\n",
    "# eyr:2024\n",
    "# ecl:brn pid:760753108 byr:1931\n",
    "# hgt:179cm\n",
    "\n",
    "# hcl:#cfa07d eyr:2025 pid:166559648\n",
    "# iyr:2011 ecl:brn hgt:59in\n",
    "# \"\"\""
   ]
  },
  {
   "cell_type": "code",
   "execution_count": 105,
   "metadata": {},
   "outputs": [
    {
     "output_type": "execute_result",
     "data": {
      "text/plain": [
       "['iyr:2013 byr:1997 hgt:182cm hcl:#ceb3a1\\neyr:2027\\necl:gry cid:102 pid:018128535',\n",
       " 'hgt:61in iyr:2014 pid:916315544 hcl:#733820 ecl:oth',\n",
       " 'hcl:#a97842\\neyr:2026 byr:1980 ecl:grn pid:726519569 hgt:184cm cid:132 iyr:2011',\n",
       " 'ecl:grn hcl:#6b5442 pid:619743219 cid:69 hgt:176cm eyr:2027 iyr:2012\\nbyr:1980']"
      ]
     },
     "metadata": {},
     "execution_count": 105
    }
   ],
   "source": [
    "passport_lines = input.rstrip().split(\"\\n\\n\")\n",
    "passport_lines[1:5]"
   ]
  },
  {
   "cell_type": "code",
   "execution_count": 102,
   "metadata": {},
   "outputs": [
    {
     "output_type": "execute_result",
     "data": {
      "text/plain": [
       "{'eyr': '2024',\n",
       " 'pid': '662406624',\n",
       " 'hcl': '#cfa07d',\n",
       " 'byr': '1947',\n",
       " 'iyr': '2015',\n",
       " 'ecl': 'amb',\n",
       " 'hgt': '150cm'}"
      ]
     },
     "metadata": {},
     "execution_count": 102
    }
   ],
   "source": [
    "passports = [dict([tuple(x.split(':')) for x in line.replace(\"\\n\", \" \").split(\" \")]) for line in passport_lines]\n",
    "passports[0]"
   ]
  },
  {
   "cell_type": "code",
   "execution_count": 106,
   "metadata": {},
   "outputs": [],
   "source": [
    "required_fields = {\"byr\", \"iyr\", \"eyr\", \"hgt\", \"hcl\", \"ecl\", \"pid\"}"
   ]
  },
  {
   "source": [
    "# Part 1"
   ],
   "cell_type": "markdown",
   "metadata": {}
  },
  {
   "source": [
    "count = 0\n",
    "for passport in passports:\n",
    "    if (all(req in passport for req in required_fields)):\n",
    "        count = count + 1\n",
    "count"
   ],
   "cell_type": "code",
   "metadata": {},
   "execution_count": null,
   "outputs": []
  },
  {
   "source": [
    "# Part 2"
   ],
   "cell_type": "markdown",
   "metadata": {}
  },
  {
   "cell_type": "code",
   "execution_count": 201,
   "metadata": {},
   "outputs": [],
   "source": [
    "import re\n",
    "def byr(value):\n",
    "    return 1920 <= int(value) <= 2002\n",
    "def iyr(value):\n",
    "    return 2010 <= int(value) <= 2020\n",
    "def eyr(value):\n",
    "    return 2020 <= int(value) <= 2030\n",
    "def hcl(value):\n",
    "    return re.search(\"#[\\da-f]{6}$\", value) != None\n",
    "def ecl(value):\n",
    "    return value in [\"amb\", \"blu\", \"brn\", \"gry\", \"grn\", \"hzl\", \"oth\"] \n",
    "def pid(value):\n",
    "    return re.search(\"^\\d{9}$\", value) != None\n",
    "def hgt(value):\n",
    "    matches = re.match(\"(\\d+)(\\w+)\", value)\n",
    "    if (matches[2] == \"in\"):\n",
    "        return 59 <= int(matches[1]) <= 76\n",
    "    elif (matches[2] == \"cm\"):\n",
    "        return 150 <= int(matches[1]) <= 193\n",
    "    else:\n",
    "        return False"
   ]
  },
  {
   "cell_type": "code",
   "execution_count": 186,
   "metadata": {},
   "outputs": [],
   "source": [
    "assert(byr('2002'))\n",
    "assert(not byr('2003'))\n",
    "assert(byr('1920'))\n",
    "assert(not byr('1919'))\n",
    "\n",
    "assert(iyr('2020'))\n",
    "assert(not iyr('2021'))\n",
    "assert(iyr('2010'))\n",
    "assert(not iyr('2009'))\n",
    "\n",
    "assert(eyr(2030))\n",
    "assert(not eyr(2031))\n",
    "assert(eyr(2020))\n",
    "assert(not eyr(2019))\n",
    "\n",
    "assert(hcl(\"#123abc\"))\n",
    "assert(not hcl(\"#123ab\"))\n",
    "assert(not hcl(\"#123abz\"))\n",
    "assert(not hcl(\"#123abcz\"))\n",
    "assert(not hcl(\"123abc\"))\n",
    "\n",
    "assert(ecl(\"brn\"))\n",
    "assert(not ecl(\"wat\"))\n",
    "\n",
    "assert(pid(\"123456789\"))\n",
    "assert(pid(\"000000001\"))\n",
    "assert(not pid(\"0123456789\"))\n",
    "\n",
    "assert(hgt(\"60in\"))\n",
    "assert(hgt(\"59in\"))\n",
    "assert(not hgt(\"58in\"))\n",
    "assert(not hgt(\"77in\"))\n",
    "\n",
    "assert(hgt(\"150cm\"))\n",
    "assert(hgt(\"193cm\"))\n",
    "assert(not hgt(\"149cm\"))\n",
    "assert(not hgt(\"194cm\"))\n",
    "assert(not hgt(\"160\"))"
   ]
  },
  {
   "cell_type": "code",
   "execution_count": 209,
   "metadata": {},
   "outputs": [],
   "source": [
    "switcher = {\n",
    "    \"byr\":byr,\n",
    "    \"iyr\":iyr,\n",
    "    \"eyr\":eyr,\n",
    "    \"hgt\":hgt,\n",
    "    \"hcl\":hcl,\n",
    "    \"ecl\":ecl,\n",
    "    \"pid\":pid,\n",
    "    \"cid\":lambda x:True\n",
    "}"
   ]
  },
  {
   "cell_type": "code",
   "execution_count": 221,
   "metadata": {},
   "outputs": [
    {
     "output_type": "execute_result",
     "data": {
      "text/plain": [
       "158"
      ]
     },
     "metadata": {},
     "execution_count": 221
    }
   ],
   "source": [
    "def check_passport(passport):\n",
    "    if (not all(req in passport for req in required_fields)):\n",
    "        return False\n",
    "    for item in passport:\n",
    "        validator = switcher.get(item)\n",
    "        if (not validator(passport[item])):\n",
    "            return False\n",
    "    return True\n",
    "\n",
    "count = 0\n",
    "for passport in passports:\n",
    "    if(check_passport(passport)):\n",
    "        count = count + 1\n",
    "count"
   ]
  }
 ]
}