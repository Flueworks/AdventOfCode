{
 "metadata": {
  "language_info": {
   "codemirror_mode": {
    "name": "ipython",
    "version": 3
   },
   "file_extension": ".py",
   "mimetype": "text/x-python",
   "name": "python",
   "nbconvert_exporter": "python",
   "pygments_lexer": "ipython3",
   "version": "3.8.3-final"
  },
  "orig_nbformat": 2,
  "kernelspec": {
   "name": "python3",
   "display_name": "Python 3"
  }
 },
 "nbformat": 4,
 "nbformat_minor": 2,
 "cells": [
  {
   "cell_type": "code",
   "execution_count": 45,
   "metadata": {},
   "outputs": [],
   "source": [
    "import utils\n",
    "input = utils.GetInput(3)"
   ]
  },
  {
   "cell_type": "code",
   "execution_count": 46,
   "metadata": {},
   "outputs": [],
   "source": [
    "# Test data\n",
    "#input = \"..##.......\\n#...#...#..\\n.#....#..#.\\n..#.#...#.#\\n.#...##..#.\\n..#.##.....\\n.#.#.#....#\\n.#........#\\n#.##...#...\\n#...##....#\\n.#..#...#.#\""
   ]
  },
  {
   "cell_type": "code",
   "execution_count": 47,
   "metadata": {},
   "outputs": [
    {
     "output_type": "execute_result",
     "data": {
      "text/plain": [
       "['..#......###....#...##..#.#....',\n",
       " '.#.#.....#.##.....###...##...##',\n",
       " '..#.#..#...........#.#..#......',\n",
       " '..#......#..........###........',\n",
       " '...#..###..##.#..#.......##..##',\n",
       " '......#.#.##...#...#....###....',\n",
       " '..........##.....##..##......#.',\n",
       " '......#...........#............',\n",
       " '#....#..........#..............',\n",
       " '.#........##.............###.##']"
      ]
     },
     "metadata": {},
     "execution_count": 47
    }
   ],
   "source": [
    "lines = input.splitlines()\n",
    "lines[0:10]"
   ]
  },
  {
   "cell_type": "code",
   "execution_count": 48,
   "metadata": {},
   "outputs": [
    {
     "output_type": "execute_result",
     "data": {
      "text/plain": [
       "array([[0, 0, 1, 0, 0, 0, 0, 0, 0, 1, 1, 1, 0, 0, 0, 0, 1, 0, 0, 0, 1, 1,\n",
       "        0, 0, 1, 0, 1, 0, 0, 0, 0],\n",
       "       [0, 1, 0, 1, 0, 0, 0, 0, 0, 1, 0, 1, 1, 0, 0, 0, 0, 0, 1, 1, 1, 0,\n",
       "        0, 0, 1, 1, 0, 0, 0, 1, 1],\n",
       "       [0, 0, 1, 0, 1, 0, 0, 1, 0, 0, 0, 0, 0, 0, 0, 0, 0, 0, 0, 1, 0, 1,\n",
       "        0, 0, 1, 0, 0, 0, 0, 0, 0]])"
      ]
     },
     "metadata": {},
     "execution_count": 48
    }
   ],
   "source": [
    "import numpy as np\n",
    "def parse(line):\n",
    "    return [1 if x == '#' else 0 for x in line]\n",
    "\n",
    "trees = np.array([parse(line) for line in lines])\n",
    "\n",
    "trees[0:3]"
   ]
  },
  {
   "cell_type": "code",
   "execution_count": 49,
   "metadata": {},
   "outputs": [
    {
     "output_type": "execute_result",
     "data": {
      "text/plain": [
       "(323, 31)"
      ]
     },
     "metadata": {},
     "execution_count": 49
    }
   ],
   "source": [
    "trees.shape"
   ]
  },
  {
   "cell_type": "code",
   "execution_count": 66,
   "metadata": {
    "tags": []
   },
   "outputs": [],
   "source": [
    "def check_slope(dx, dy):\n",
    "    x = 0\n",
    "    y = 0\n",
    "    hits = 0\n",
    "    while(y < trees.shape[0]):\n",
    "        hits = hits + trees[y,x]\n",
    "        x = x + dx\n",
    "        y = y + dy\n",
    "        x = x % trees.shape[1]\n",
    "\n",
    "    return hits"
   ]
  },
  {
   "cell_type": "code",
   "execution_count": 67,
   "metadata": {},
   "outputs": [
    {
     "output_type": "execute_result",
     "data": {
      "text/plain": [
       "262"
      ]
     },
     "metadata": {},
     "execution_count": 67
    }
   ],
   "source": [
    "# Answer 1\n",
    "check_slope(3, 1)"
   ]
  },
  {
   "cell_type": "code",
   "execution_count": 117,
   "metadata": {},
   "outputs": [
    {
     "output_type": "stream",
     "name": "stdout",
     "text": [
      "2698900776\n"
     ]
    }
   ],
   "source": [
    "# Answer 2\n",
    "product = int(1)\n",
    "for (a,b) in [(1,1) ,(3,1) ,(5,1) ,(7,1) ,(1,2)]:\n",
    "    hits = check_slope(a,b)\n",
    "    product = product * int(hits) # because hits is of type numpy.int32, it rolls over after 2147483647\n",
    "    \n",
    "print(product)\n"
   ]
  }
 ]
}