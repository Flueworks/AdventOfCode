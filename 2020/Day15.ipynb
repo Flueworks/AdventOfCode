{
 "metadata": {
  "language_info": {
   "codemirror_mode": {
    "name": "ipython",
    "version": 3
   },
   "file_extension": ".py",
   "mimetype": "text/x-python",
   "name": "python",
   "nbconvert_exporter": "python",
   "pygments_lexer": "ipython3",
   "version": "3.8.3-final"
  },
  "orig_nbformat": 2,
  "kernelspec": {
   "name": "python3",
   "display_name": "Python 3",
   "language": "python"
  }
 },
 "nbformat": 4,
 "nbformat_minor": 2,
 "cells": [
  {
   "cell_type": "code",
   "execution_count": 151,
   "metadata": {},
   "outputs": [],
   "source": [
    "import utils\n",
    "input = utils.GetInput(15) "
   ]
  },
  {
   "cell_type": "code",
   "execution_count": 152,
   "metadata": {},
   "outputs": [],
   "source": [
    "#input = \"1,2,3\""
   ]
  },
  {
   "cell_type": "code",
   "execution_count": 153,
   "metadata": {},
   "outputs": [
    {
     "output_type": "execute_result",
     "data": {
      "text/plain": [
       "[1, 0, 18, 10, 19, 6]"
      ]
     },
     "metadata": {},
     "execution_count": 153
    }
   ],
   "source": [
    "startingInput = [int(x) for x in input.split(',')]\n",
    "startingInput"
   ]
  },
  {
   "cell_type": "code",
   "execution_count": 154,
   "metadata": {},
   "outputs": [
    {
     "output_type": "execute_result",
     "data": {
      "text/plain": [
       "441"
      ]
     },
     "metadata": {},
     "execution_count": 154
    }
   ],
   "source": [
    "# Part 1\n",
    "numbers = {}\n",
    "count = 0\n",
    "for x in startingInput[:-1]:\n",
    "    numbers[x] = count\n",
    "    count = count + 1\n",
    "\n",
    "next_number = startingInput[-1]\n",
    "\n",
    "for i in range(count,2019):\n",
    "    if not next_number in numbers:\n",
    "        numbers[next_number] = i\n",
    "        next_number = 0\n",
    "        continue\n",
    "    last_seen = numbers[next_number]\n",
    "    val = i - last_seen\n",
    "    numbers[next_number] = i\n",
    "    next_number = val\n",
    "next_number"
   ]
  },
  {
   "cell_type": "code",
   "execution_count": 155,
   "metadata": {},
   "outputs": [
    {
     "output_type": "execute_result",
     "data": {
      "text/plain": [
       "441"
      ]
     },
     "metadata": {},
     "execution_count": 155
    }
   ],
   "source": [
    "# Part 1 - smaller\n",
    "numbers = {nr: i+1 for (i, nr) in enumerate(startingInput[:-1])}\n",
    "\n",
    "count = len(startingInput)\n",
    "next_number = startingInput[-1]\n",
    "\n",
    "for i in range(count,2020):\n",
    "    last_seen = i - numbers.get(next_number, i)\n",
    "    numbers[next_number] = i\n",
    "    next_number = last_seen\n",
    "\n",
    "next_number"
   ]
  },
  {
   "cell_type": "code",
   "execution_count": 156,
   "metadata": {},
   "outputs": [
    {
     "output_type": "execute_result",
     "data": {
      "text/plain": [
       "10613991"
      ]
     },
     "metadata": {},
     "execution_count": 156
    }
   ],
   "source": [
    "# Part 1 - smaller\n",
    "numbers = {nr: i+1 for (i, nr) in enumerate(startingInput[:-1])}\n",
    "\n",
    "count = len(startingInput)\n",
    "next_number = startingInput[-1]\n",
    "\n",
    "for i in range(count,30000000):\n",
    "    last_seen = i - numbers.get(next_number, i)\n",
    "    numbers[next_number] = i\n",
    "    next_number = last_seen\n",
    "\n",
    "next_number"
   ]
  }
 ]
}