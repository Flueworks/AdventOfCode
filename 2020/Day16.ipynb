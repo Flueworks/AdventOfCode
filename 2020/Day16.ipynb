{
 "metadata": {
  "language_info": {
   "codemirror_mode": {
    "name": "ipython",
    "version": 3
   },
   "file_extension": ".py",
   "mimetype": "text/x-python",
   "name": "python",
   "nbconvert_exporter": "python",
   "pygments_lexer": "ipython3",
   "version": "3.8.3-final"
  },
  "orig_nbformat": 2,
  "kernelspec": {
   "name": "python3",
   "display_name": "Python 3",
   "language": "python"
  }
 },
 "nbformat": 4,
 "nbformat_minor": 2,
 "cells": [
  {
   "cell_type": "code",
   "execution_count": 51,
   "metadata": {},
   "outputs": [],
   "source": [
    "import utils\n",
    "input = utils.GetInput(16)"
   ]
  },
  {
   "cell_type": "code",
   "execution_count": 76,
   "metadata": {
    "tags": []
   },
   "outputs": [],
   "source": [
    "parts = input.split('\\n\\n')\n",
    "#rules = [[(x[0], x[1]) for x in line.split(':')] for line in parts[0].splitlines()]\n",
    "rules = {}\n",
    "\n",
    "for line in parts[0].splitlines():\n",
    "    field, rule = line.split(': ')\n",
    "    a, b = rule.split(' or ')\n",
    "    x1,y1 = [int(z) for z in a.split('-')]\n",
    "    x2,y2 = [int(z) for z in b.split('-')]\n",
    "    rules[field] = set(range(x1,y1+1)) | set(range(x2,y2+1))\n",
    "\n",
    "your_ticket = [int(x) for x in parts[1].splitlines()[1].split(',')]\n",
    "\n",
    "tickets = [[int(i) for i in ticket.split(',')] for ticket in parts[2].splitlines()[1:]]"
   ]
  },
  {
   "cell_type": "code",
   "execution_count": 90,
   "metadata": {},
   "outputs": [
    {
     "output_type": "execute_result",
     "data": {
      "text/plain": [
       "25916"
      ]
     },
     "metadata": {},
     "execution_count": 90
    }
   ],
   "source": [
    "all_rules = set()\n",
    "for rule in rules:\n",
    "    all_rules |= rules[rule]\n",
    "\n",
    "valid_tickets = []\n",
    "invalid = 0\n",
    "for ticket in tickets:\n",
    "    valid = True\n",
    "    for field in ticket:\n",
    "        if not field in all_rules:\n",
    "            invalid += field\n",
    "            valid = False\n",
    "    if valid:\n",
    "        valid_tickets.append(ticket)\n",
    "invalid"
   ]
  },
  {
   "cell_type": "code",
   "execution_count": null,
   "metadata": {},
   "outputs": [],
   "source": []
  }
 ]
}