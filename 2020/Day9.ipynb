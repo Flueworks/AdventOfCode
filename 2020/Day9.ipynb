{
 "metadata": {
  "language_info": {
   "codemirror_mode": {
    "name": "ipython",
    "version": 3
   },
   "file_extension": ".py",
   "mimetype": "text/x-python",
   "name": "python",
   "nbconvert_exporter": "python",
   "pygments_lexer": "ipython3",
   "version": "3.8.3-final"
  },
  "orig_nbformat": 2,
  "kernelspec": {
   "name": "python3",
   "display_name": "Python 3"
  }
 },
 "nbformat": 4,
 "nbformat_minor": 2,
 "cells": [
  {
   "cell_type": "code",
   "execution_count": 154,
   "metadata": {},
   "outputs": [],
   "source": [
    "import utils\n",
    "input = utils.GetInput(9)"
   ]
  },
  {
   "cell_type": "code",
   "execution_count": 155,
   "metadata": {},
   "outputs": [],
   "source": [
    "test_input = \"\"\"35\n",
    "20\n",
    "15\n",
    "25\n",
    "47\n",
    "40\n",
    "62\n",
    "55\n",
    "65\n",
    "95\n",
    "102\n",
    "117\n",
    "150\n",
    "182\n",
    "127\n",
    "219\n",
    "299\n",
    "277\n",
    "309\n",
    "576\"\"\""
   ]
  },
  {
   "cell_type": "code",
   "execution_count": 156,
   "metadata": {},
   "outputs": [
    {
     "output_type": "stream",
     "name": "stdout",
     "text": [
      "[17, 42, 18, 39, 1, 16, 13, 31, 35, 32, 47, 11, 40, 23, 29, 30, 3, 38, 43, 27, 41, 9, 19, 14, 46, 44, 4, 20, 5, 6]\n"
     ]
    }
   ],
   "source": [
    "numbers = [int(l) for l in input.splitlines()]\n",
    "test_numbers = [int(l) for l in test_input.splitlines()]\n",
    "print(numbers[0:30])"
   ]
  },
  {
   "cell_type": "code",
   "execution_count": 157,
   "metadata": {},
   "outputs": [
    {
     "output_type": "execute_result",
     "data": {
      "text/plain": [
       "True"
      ]
     },
     "metadata": {},
     "execution_count": 157
    }
   ],
   "source": [
    "import itertools\n",
    "\n",
    "def CheckSums(list, preamble, sum):\n",
    "    for i, a in enumerate(list[:preamble]):\n",
    "        for b in list[i+1:preamble]:\n",
    "            if(a+b == sum):\n",
    "                return True\n",
    "    return False\n",
    "\n",
    "CheckSums(test_numbers, 5, test_numbers[6])"
   ]
  },
  {
   "cell_type": "code",
   "execution_count": 158,
   "metadata": {},
   "outputs": [],
   "source": [
    "def FindWeakness(items, preamble):\n",
    "    for i in range(0,len(items)):\n",
    "        data = list(items[i:])\n",
    "        result = CheckSums(data, preamble, data[preamble])\n",
    "        if(result == False):\n",
    "            return data[preamble]"
   ]
  },
  {
   "cell_type": "code",
   "execution_count": 159,
   "metadata": {},
   "outputs": [
    {
     "output_type": "execute_result",
     "data": {
      "text/plain": [
       "127"
      ]
     },
     "metadata": {},
     "execution_count": 159
    }
   ],
   "source": [
    "FindWeakness(test_numbers, 5)"
   ]
  },
  {
   "cell_type": "code",
   "execution_count": 160,
   "metadata": {
    "tags": []
   },
   "outputs": [
    {
     "output_type": "execute_result",
     "data": {
      "text/plain": [
       "1038347917"
      ]
     },
     "metadata": {},
     "execution_count": 160
    }
   ],
   "source": [
    "# Part 1\n",
    "weakness = FindWeakness(numbers, 25)\n",
    "weakness"
   ]
  },
  {
   "cell_type": "code",
   "execution_count": 161,
   "metadata": {},
   "outputs": [
    {
     "output_type": "execute_result",
     "data": {
      "text/plain": [
       "(15, 47)"
      ]
     },
     "metadata": {},
     "execution_count": 161
    }
   ],
   "source": [
    "def FindRange(items, sum):\n",
    "    for i, a in enumerate(items):\n",
    "        acc = 0\n",
    "        for j, b in enumerate(items[i:]):\n",
    "            if(b == sum): break\n",
    "            acc = acc + b\n",
    "            if(acc == sum):\n",
    "                range = items[i:i+j+1]\n",
    "                return (min(range), max(range))\n",
    "\n",
    "FindRange(test_numbers, 127)"
   ]
  },
  {
   "cell_type": "code",
   "execution_count": 162,
   "metadata": {
    "tags": []
   },
   "outputs": [
    {
     "output_type": "execute_result",
     "data": {
      "text/plain": [
       "137394018"
      ]
     },
     "metadata": {},
     "execution_count": 162
    }
   ],
   "source": [
    "# Part 2\n",
    "result = FindRange(numbers, weakness)\n",
    "result[0] + result[1]"
   ]
  }
 ]
}