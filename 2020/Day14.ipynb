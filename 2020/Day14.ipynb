{
 "metadata": {
  "language_info": {
   "codemirror_mode": {
    "name": "ipython",
    "version": 3
   },
   "file_extension": ".py",
   "mimetype": "text/x-python",
   "name": "python",
   "nbconvert_exporter": "python",
   "pygments_lexer": "ipython3",
   "version": "3.8.3-final"
  },
  "orig_nbformat": 2,
  "kernelspec": {
   "name": "python3",
   "display_name": "Python 3",
   "language": "python"
  }
 },
 "nbformat": 4,
 "nbformat_minor": 2,
 "cells": [
  {
   "cell_type": "code",
   "execution_count": 1,
   "metadata": {},
   "outputs": [],
   "source": [
    "import utils\n",
    "input = utils.GetInput(14)"
   ]
  },
  {
   "cell_type": "code",
   "execution_count": 2,
   "metadata": {},
   "outputs": [],
   "source": [
    "#test\n",
    "# input = \"\"\"mask = 000000000000000000000000000000X1001X\n",
    "# mem[42] = 100\n",
    "# mask = 00000000000000000000000000000000X0XX\n",
    "# mem[26] = 1\"\"\""
   ]
  },
  {
   "cell_type": "code",
   "execution_count": 3,
   "metadata": {},
   "outputs": [
    {
     "output_type": "execute_result",
     "data": {
      "text/plain": [
       "[('mask', 'X00000000000110011100XXX011110111011'),\n",
       " (41579, 225076),\n",
       " (14806, 26208185),\n",
       " (47659, 176531392),\n",
       " (27723, 186971157),\n",
       " (35129, 3483636),\n",
       " (27142, 4246),\n",
       " ('mask', '01101X10101011000101X1X0XXX101111110'),\n",
       " (16685, 392461),\n",
       " (65343, 13662482),\n",
       " (53292, 736),\n",
       " (6830, 382342975),\n",
       " (12777, 19983424),\n",
       " (19592, 679514970),\n",
       " (8776, 122013),\n",
       " ('mask', '011X110100011100111001X1000XX011001X'),\n",
       " (29076, 305532),\n",
       " (30139, 135337),\n",
       " ('mask', '0100X00X1010110X0X010010010001000001'),\n",
       " (32307, 2921)]"
      ]
     },
     "metadata": {},
     "execution_count": 3
    }
   ],
   "source": [
    "def parse_line(line):\n",
    "    parts = line.split(\" = \")\n",
    "\n",
    "    if(parts[0] == \"mask\"):\n",
    "        return (parts[0], parts[1])\n",
    "    return (int(parts[0][4:-1]), int(parts[1]))\n",
    "\n",
    "parsed = [parse_line(line) for line in input.splitlines()]\n",
    "\n",
    "parsed [0:20]"
   ]
  },
  {
   "cell_type": "code",
   "execution_count": 4,
   "metadata": {},
   "outputs": [],
   "source": [
    "def bitmask(number, mask):\n",
    "    number |= int(mask.replace('X', '0'), 2)\n",
    "    number &= int(mask.replace('X', '1'), 2)\n",
    "    return number"
   ]
  },
  {
   "cell_type": "code",
   "execution_count": 5,
   "metadata": {},
   "outputs": [
    {
     "output_type": "execute_result",
     "data": {
      "text/plain": [
       "9967721333886"
      ]
     },
     "metadata": {},
     "execution_count": 5
    }
   ],
   "source": [
    "# Part 1\n",
    "mask = \"XXXXXXXXXXXXXXXXXXXXXXXXXXXXXXXXXXXX\"\n",
    "memory = {}\n",
    "for task in parsed:\n",
    "    if (task[0] == \"mask\"):\n",
    "        mask = task[1]\n",
    "        continue\n",
    "    adr = task[0]\n",
    "    val = task[1]\n",
    "    val = bitmask(val, mask)\n",
    "    memory[adr] = val\n",
    "\n",
    "memory\n",
    "sum(memory.values())\n"
   ]
  },
  {
   "cell_type": "code",
   "execution_count": 6,
   "metadata": {
    "tags": []
   },
   "outputs": [
    {
     "output_type": "execute_result",
     "data": {
      "text/plain": [
       "4355897790573"
      ]
     },
     "metadata": {},
     "execution_count": 6
    }
   ],
   "source": [
    "# Part 2\n",
    "memory = {}\n",
    "masks = []\n",
    "\n",
    "def create_sub_mask(mask):\n",
    "    if not mask:\n",
    "        yield ''\n",
    "        return\n",
    "    for submask in create_sub_mask(mask[1:]):\n",
    "        if(mask[0] == '0'):\n",
    "            yield 'X' + submask\n",
    "        elif(mask[0] == '1'):\n",
    "            yield '1' + submask\n",
    "        else:\n",
    "            yield '0' + submask\n",
    "            yield '1' + submask\n",
    "\n",
    "\n",
    "for task in parsed:\n",
    "    if (task[0] == \"mask\"):\n",
    "        masks = list(create_sub_mask(task[1]))\n",
    "        continue\n",
    "    adr = task[0]\n",
    "    val = task[1]\n",
    "    \n",
    "    for mask in masks:\n",
    "        masked_adr = bitmask(adr, mask)\n",
    "        \n",
    "        memory[masked_adr] = val\n",
    "\n",
    "memory\n",
    "sum(memory.values())"
   ]
  },
  {
   "cell_type": "code",
   "execution_count": null,
   "metadata": {},
   "outputs": [],
   "source": []
  }
 ]
}