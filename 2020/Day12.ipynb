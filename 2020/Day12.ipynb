{
 "metadata": {
  "language_info": {
   "codemirror_mode": {
    "name": "ipython",
    "version": 3
   },
   "file_extension": ".py",
   "mimetype": "text/x-python",
   "name": "python",
   "nbconvert_exporter": "python",
   "pygments_lexer": "ipython3",
   "version": "3.8.3-final"
  },
  "orig_nbformat": 2,
  "kernelspec": {
   "name": "python3",
   "display_name": "Python 3",
   "language": "python"
  }
 },
 "nbformat": 4,
 "nbformat_minor": 2,
 "cells": [
  {
   "cell_type": "code",
   "execution_count": 29,
   "metadata": {},
   "outputs": [],
   "source": [
    "import utils\n",
    "input = utils.GetInput(12)"
   ]
  },
  {
   "cell_type": "code",
   "execution_count": 30,
   "metadata": {},
   "outputs": [
    {
     "output_type": "execute_result",
     "data": {
      "text/plain": [
       "[('N', 2), ('F', 85), ('L', 90), ('W', 5), ('R', 90)]"
      ]
     },
     "metadata": {},
     "execution_count": 30
    }
   ],
   "source": [
    "lines = input.splitlines()\n",
    "instructions = [(line[0], int(line[1:])) for line in lines]\n",
    "instructions[:5]\n"
   ]
  },
  {
   "cell_type": "code",
   "execution_count": 35,
   "metadata": {},
   "outputs": [
    {
     "output_type": "execute_result",
     "data": {
      "text/plain": [
       "2280"
      ]
     },
     "metadata": {},
     "execution_count": 35
    }
   ],
   "source": [
    "heading = 1\n",
    "headings = [\"N\",\"E\", \"S\",\"W\"]\n",
    "\n",
    "x = 0\n",
    "y = 0\n",
    "\n",
    "for dir in instructions:\n",
    "    instruction = dir[0]\n",
    "    length = dir[1]\n",
    "\n",
    "    if(instruction == \"F\"):\n",
    "        instruction = headings[heading]\n",
    "\n",
    "    if (instruction == \"N\"):\n",
    "        y = y - length\n",
    "    elif (instruction == \"E\"):\n",
    "        x = x + length\n",
    "    elif(instruction == \"S\"):\n",
    "        y = y + length\n",
    "    elif(instruction == \"W\"):\n",
    "        x = x - length\n",
    "    elif(instruction == \"R\"):\n",
    "        heading = int(heading + length / 90) % 4\n",
    "    elif(instruction == \"L\"):\n",
    "        heading = int(heading - length / 90) % 4\n",
    "\n",
    "\n",
    "abs(x) + abs(y)"
   ]
  },
  {
   "cell_type": "code",
   "execution_count": 48,
   "metadata": {},
   "outputs": [
    {
     "output_type": "execute_result",
     "data": {
      "text/plain": [
       "38693"
      ]
     },
     "metadata": {},
     "execution_count": 48
    }
   ],
   "source": [
    "heading = 1\n",
    "headings = [\"N\",\"E\", \"S\",\"W\"]\n",
    "\n",
    "x = 0\n",
    "y = 0\n",
    "\n",
    "wx = 10\n",
    "wy = -1\n",
    "\n",
    "for dir in instructions:\n",
    "    instruction = dir[0]\n",
    "    length = dir[1]\n",
    "\n",
    "    if(instruction == \"F\"):\n",
    "        x = x + wx * length\n",
    "        y = y + wy * length\n",
    "\n",
    "    if (instruction == \"N\"):\n",
    "        wy = wy - length\n",
    "    elif (instruction == \"E\"):\n",
    "        wx = wx + length\n",
    "    elif(instruction == \"S\"):\n",
    "        wy = wy + length\n",
    "    elif(instruction == \"W\"):\n",
    "        wx = wx - length\n",
    "    \n",
    "    if(instruction == \"L\"):\n",
    "        # transform to R\n",
    "        instruction = \"R\"\n",
    "        length = 360 - length\n",
    "    \n",
    "    if(instruction == \"R\"):\n",
    "        #heading = int(heading + length / 90) % 4\n",
    "        for r in range(0,int(length/90)):\n",
    "            a = -wy\n",
    "            wy = wx\n",
    "            wx = a\n",
    "\n",
    " \n",
    "\n",
    "abs(x) + abs(y)"
   ]
  },
  {
   "cell_type": "code",
   "execution_count": 46,
   "metadata": {},
   "outputs": [
    {
     "output_type": "stream",
     "name": "stdout",
     "text": [
      "-1 10\n-10 -1\n1 -10\n10 1\n"
     ]
    }
   ],
   "source": [
    "wx = 10\n",
    "wy = 1\n",
    "\n",
    "length = 180\n",
    "\n",
    "# length \n",
    "\n",
    "\n",
    "# 10, 0\n",
    "# 0, 10\n",
    "# -10, 0\n",
    "# 0, -10\n",
    "\n",
    "# 10, 1\n",
    "# -1, 10\n",
    "# -10, -1,\n",
    "# 1, -10\n",
    "\n",
    "# a, b\n",
    "# -b, a\n",
    "# -a, -b\n",
    "# b, -a\n",
    "\n",
    "for r in range(0, 4):\n",
    "    a = -wy\n",
    "    b = wx\n",
    "    wx = a\n",
    "    wy = b\n",
    "    print(wx, wy)\n",
    "\n"
   ]
  }
 ]
}