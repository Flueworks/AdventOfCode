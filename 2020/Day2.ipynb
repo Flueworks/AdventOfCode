{
 "metadata": {
  "language_info": {
   "codemirror_mode": {
    "name": "ipython",
    "version": 3
   },
   "file_extension": ".py",
   "mimetype": "text/x-python",
   "name": "python",
   "nbconvert_exporter": "python",
   "pygments_lexer": "ipython3",
   "version": "3.8.3-final"
  },
  "orig_nbformat": 2,
  "kernelspec": {
   "name": "python3",
   "display_name": "Python 3"
  }
 },
 "nbformat": 4,
 "nbformat_minor": 2,
 "cells": [
  {
   "cell_type": "code",
   "execution_count": 9,
   "metadata": {},
   "outputs": [],
   "source": [
    "import utils\n",
    "input = utils.GetInput(2)"
   ]
  },
  {
   "cell_type": "code",
   "execution_count": 13,
   "metadata": {},
   "outputs": [
    {
     "output_type": "execute_result",
     "data": {
      "text/plain": [
       "['3-4 t: dttt',\n",
       " '5-7 l: llmlqmblllh',\n",
       " '3-10 g: gggxwxggggkgglklhhgg',\n",
       " '5-7 d: zxhddvxd',\n",
       " '5-12 s: sgscssssphxs',\n",
       " '3-4 b: lbbbbntqswsv',\n",
       " '1-11 h: hhhhchhhhjhph',\n",
       " '10-16 c: ccccqccchcccccjlc',\n",
       " '10-11 b: bsbdbblbbjbbbb',\n",
       " '3-5 j: jjrjfqz']"
      ]
     },
     "metadata": {},
     "execution_count": 13
    }
   ],
   "source": [
    "lines = input.splitlines()\n",
    "lines[0:10]"
   ]
  },
  {
   "cell_type": "code",
   "execution_count": 51,
   "metadata": {},
   "outputs": [],
   "source": [
    "import re\n",
    "p = re.compile('(\\d+)-(\\d+) (.): (.+)')\n",
    "matches = [p.match(l) for l in lines]"
   ]
  },
  {
   "cell_type": "code",
   "execution_count": 52,
   "metadata": {},
   "outputs": [
    {
     "output_type": "execute_result",
     "data": {
      "text/plain": [
       "586"
      ]
     },
     "metadata": {},
     "execution_count": 52
    }
   ],
   "source": [
    "valid = 0\n",
    "for m in matches:\n",
    "    min = int(m.group(1))\n",
    "    max = int(m.group(2))\n",
    "    letter = m.group(3)\n",
    "    pwd = m.group(4)\n",
    "\n",
    "    count = pwd.count(letter)\n",
    "    if(count >= min and count <= max):\n",
    "        valid = valid + 1\n",
    "\n",
    "valid"
   ]
  },
  {
   "cell_type": "code",
   "execution_count": 59,
   "metadata": {},
   "outputs": [
    {
     "output_type": "execute_result",
     "data": {
      "text/plain": [
       "352"
      ]
     },
     "metadata": {},
     "execution_count": 59
    }
   ],
   "source": [
    "from operator import xor\n",
    "valid = 0\n",
    "for m in matches:\n",
    "    ix1 = int(m.group(1)) - 1\n",
    "    ix2 = int(m.group(2)) - 1\n",
    "    letter = m.group(3)\n",
    "    pwd = m.group(4)\n",
    "\n",
    "    match1 = (pwd[ix1] == letter)\n",
    "    match2 = (pwd[ix2] == letter)\n",
    "    \n",
    "    if (xor(match1, match2)):\n",
    "        valid = valid + 1\n",
    "\n",
    "valid"
   ]
  }
 ]
}